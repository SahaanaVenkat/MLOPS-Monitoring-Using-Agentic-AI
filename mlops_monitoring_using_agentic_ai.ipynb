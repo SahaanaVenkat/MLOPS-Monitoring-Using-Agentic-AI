{
 "cells": [
  {
   "cell_type": "code",
   "execution_count": 1,
   "metadata": {},
   "outputs": [],
   "source": [
    "import os\n",
    "import mlflow\n",
    "import optuna\n",
    "import xgboost as xgb\n",
    "import pandas as pd\n",
    "import numpy as np\n",
    "from sklearn.model_selection import train_test_split\n",
    "from sklearn.metrics import accuracy_score\n",
    "from langchain_openai import AzureChatOpenAI\n",
    "from langgraph.graph import StateGraph\n",
    "from typing import TypedDict\n",
    "import networkx as nx\n",
    "import matplotlib.pyplot as plt"
   ]
  },
  {
   "cell_type": "code",
   "execution_count": 2,
   "metadata": {},
   "outputs": [],
   "source": [
    "# Global Configurations\n",
    "MODEL_VERSION = \"v1.0\"\n",
    "MODEL_ACCURACY = 0.0\n",
    "EXPERIMENT_NAME = \"Diabetes_MLOps_Agent\"\n",
    "DATA_PATH = \"diabetes_prediction_dataset.csv\""
   ]
  },
  {
   "cell_type": "code",
   "execution_count": 3,
   "metadata": {},
   "outputs": [],
   "source": [
    "# Load Dataset\n",
    "df = pd.read_csv(DATA_PATH)\n",
    "df = pd.get_dummies(df, columns=['smoking_history', 'gender'])\n",
    "X = df.drop(columns=[\"diabetes\"])\n",
    "y = df[\"diabetes\"]\n",
    "X_train, X_test, y_train, y_test = train_test_split(X, y, test_size=0.2, random_state=42)\n"
   ]
  },
  {
   "cell_type": "code",
   "execution_count": 4,
   "metadata": {},
   "outputs": [
    {
     "data": {
      "text/plain": [
       "<Experiment: artifact_location='file:///c:/Users/SV937CY/OneDrive%20-%20EY/Desktop/telstra_webscrapping/mlruns/466788862288058590', creation_time=1738904820851, experiment_id='466788862288058590', last_update_time=1738904820851, lifecycle_stage='active', name='Diabetes_MLOps_Agent', tags={}>"
      ]
     },
     "execution_count": 4,
     "metadata": {},
     "output_type": "execute_result"
    }
   ],
   "source": [
    "# Initialize MLflow\n",
    "mlflow.set_experiment(EXPERIMENT_NAME)"
   ]
  },
  {
   "cell_type": "code",
   "execution_count": null,
   "metadata": {},
   "outputs": [],
   "source": [
    "# Initialize LLM for decision-making\n",
    "llm = AzureChatOpenAI(\n",
    "    deployment_name=\"gpt-4o\",\n",
    "    api_key=os.getenv(\"AZURE_OPENAI_API_KEY\"),\n",
    "    azure_endpoint=os.getenv(\"AZURE_OPENAI_ENDPOINT\"),\n",
    "    api_version=\"2024-02-01\"\n",
    ")"
   ]
  },
  {
   "cell_type": "code",
   "execution_count": 6,
   "metadata": {},
   "outputs": [],
   "source": [
    "# Hyperparameter Optimization Function\n",
    "def objective(trial):\n",
    "    params = {\n",
    "        \"max_depth\": trial.suggest_int(\"max_depth\", 3, 10),\n",
    "        \"learning_rate\": trial.suggest_loguniform(\"learning_rate\", 0.01, 0.3),\n",
    "        \"n_estimators\": trial.suggest_int(\"n_estimators\", 50, 300),\n",
    "    }\n",
    "    model = xgb.XGBClassifier(**params, use_label_encoder=False, eval_metric=\"logloss\")\n",
    "    model.fit(X_train, y_train)\n",
    "    preds = model.predict(X_test)\n",
    "    return accuracy_score(y_test, preds)\n"
   ]
  },
  {
   "cell_type": "code",
   "execution_count": 7,
   "metadata": {},
   "outputs": [
    {
     "name": "stderr",
     "output_type": "stream",
     "text": [
      "[I 2025-03-25 16:27:32,638] A new study created in memory with name: no-name-78f1511d-6685-43aa-b600-4c1ec6859103\n",
      "C:\\Users\\SV937CY\\AppData\\Local\\Temp\\ipykernel_25728\\1848405486.py:5: FutureWarning: suggest_loguniform has been deprecated in v3.0.0. This feature will be removed in v6.0.0. See https://github.com/optuna/optuna/releases/tag/v3.0.0. Use suggest_float(..., log=True) instead.\n",
      "  \"learning_rate\": trial.suggest_loguniform(\"learning_rate\", 0.01, 0.3),\n",
      "c:\\Users\\SV937CY\\bias_1\\Lib\\site-packages\\xgboost\\core.py:158: UserWarning: [16:27:32] WARNING: C:\\buildkite-agent\\builds\\buildkite-windows-cpu-autoscaling-group-i-0c55ff5f71b100e98-1\\xgboost\\xgboost-ci-windows\\src\\learner.cc:740: \n",
      "Parameters: { \"use_label_encoder\" } are not used.\n",
      "\n",
      "  warnings.warn(smsg, UserWarning)\n",
      "[I 2025-03-25 16:27:33,692] Trial 0 finished with value: 0.9725 and parameters: {'max_depth': 9, 'learning_rate': 0.03715983633451304, 'n_estimators': 234}. Best is trial 0 with value: 0.9725.\n",
      "C:\\Users\\SV937CY\\AppData\\Local\\Temp\\ipykernel_25728\\1848405486.py:5: FutureWarning: suggest_loguniform has been deprecated in v3.0.0. This feature will be removed in v6.0.0. See https://github.com/optuna/optuna/releases/tag/v3.0.0. Use suggest_float(..., log=True) instead.\n",
      "  \"learning_rate\": trial.suggest_loguniform(\"learning_rate\", 0.01, 0.3),\n",
      "c:\\Users\\SV937CY\\bias_1\\Lib\\site-packages\\xgboost\\core.py:158: UserWarning: [16:27:33] WARNING: C:\\buildkite-agent\\builds\\buildkite-windows-cpu-autoscaling-group-i-0c55ff5f71b100e98-1\\xgboost\\xgboost-ci-windows\\src\\learner.cc:740: \n",
      "Parameters: { \"use_label_encoder\" } are not used.\n",
      "\n",
      "  warnings.warn(smsg, UserWarning)\n",
      "[I 2025-03-25 16:27:34,042] Trial 1 finished with value: 0.9713 and parameters: {'max_depth': 8, 'learning_rate': 0.18561445104242302, 'n_estimators': 91}. Best is trial 0 with value: 0.9725.\n",
      "C:\\Users\\SV937CY\\AppData\\Local\\Temp\\ipykernel_25728\\1848405486.py:5: FutureWarning: suggest_loguniform has been deprecated in v3.0.0. This feature will be removed in v6.0.0. See https://github.com/optuna/optuna/releases/tag/v3.0.0. Use suggest_float(..., log=True) instead.\n",
      "  \"learning_rate\": trial.suggest_loguniform(\"learning_rate\", 0.01, 0.3),\n",
      "c:\\Users\\SV937CY\\bias_1\\Lib\\site-packages\\xgboost\\core.py:158: UserWarning: [16:27:34] WARNING: C:\\buildkite-agent\\builds\\buildkite-windows-cpu-autoscaling-group-i-0c55ff5f71b100e98-1\\xgboost\\xgboost-ci-windows\\src\\learner.cc:740: \n",
      "Parameters: { \"use_label_encoder\" } are not used.\n",
      "\n",
      "  warnings.warn(smsg, UserWarning)\n",
      "[I 2025-03-25 16:27:34,787] Trial 2 finished with value: 0.97205 and parameters: {'max_depth': 8, 'learning_rate': 0.06391340200467471, 'n_estimators': 206}. Best is trial 0 with value: 0.9725.\n",
      "C:\\Users\\SV937CY\\AppData\\Local\\Temp\\ipykernel_25728\\1848405486.py:5: FutureWarning: suggest_loguniform has been deprecated in v3.0.0. This feature will be removed in v6.0.0. See https://github.com/optuna/optuna/releases/tag/v3.0.0. Use suggest_float(..., log=True) instead.\n",
      "  \"learning_rate\": trial.suggest_loguniform(\"learning_rate\", 0.01, 0.3),\n",
      "c:\\Users\\SV937CY\\bias_1\\Lib\\site-packages\\xgboost\\core.py:158: UserWarning: [16:27:34] WARNING: C:\\buildkite-agent\\builds\\buildkite-windows-cpu-autoscaling-group-i-0c55ff5f71b100e98-1\\xgboost\\xgboost-ci-windows\\src\\learner.cc:740: \n",
      "Parameters: { \"use_label_encoder\" } are not used.\n",
      "\n",
      "  warnings.warn(smsg, UserWarning)\n",
      "[I 2025-03-25 16:27:35,522] Trial 3 finished with value: 0.9718 and parameters: {'max_depth': 5, 'learning_rate': 0.13696001815722916, 'n_estimators': 221}. Best is trial 0 with value: 0.9725.\n",
      "C:\\Users\\SV937CY\\AppData\\Local\\Temp\\ipykernel_25728\\1848405486.py:5: FutureWarning: suggest_loguniform has been deprecated in v3.0.0. This feature will be removed in v6.0.0. See https://github.com/optuna/optuna/releases/tag/v3.0.0. Use suggest_float(..., log=True) instead.\n",
      "  \"learning_rate\": trial.suggest_loguniform(\"learning_rate\", 0.01, 0.3),\n",
      "c:\\Users\\SV937CY\\bias_1\\Lib\\site-packages\\xgboost\\core.py:158: UserWarning: [16:27:35] WARNING: C:\\buildkite-agent\\builds\\buildkite-windows-cpu-autoscaling-group-i-0c55ff5f71b100e98-1\\xgboost\\xgboost-ci-windows\\src\\learner.cc:740: \n",
      "Parameters: { \"use_label_encoder\" } are not used.\n",
      "\n",
      "  warnings.warn(smsg, UserWarning)\n",
      "[I 2025-03-25 16:27:35,949] Trial 4 finished with value: 0.9725 and parameters: {'max_depth': 4, 'learning_rate': 0.10102572255835282, 'n_estimators': 137}. Best is trial 0 with value: 0.9725.\n",
      "C:\\Users\\SV937CY\\AppData\\Local\\Temp\\ipykernel_25728\\1848405486.py:5: FutureWarning: suggest_loguniform has been deprecated in v3.0.0. This feature will be removed in v6.0.0. See https://github.com/optuna/optuna/releases/tag/v3.0.0. Use suggest_float(..., log=True) instead.\n",
      "  \"learning_rate\": trial.suggest_loguniform(\"learning_rate\", 0.01, 0.3),\n",
      "c:\\Users\\SV937CY\\bias_1\\Lib\\site-packages\\xgboost\\core.py:158: UserWarning: [16:27:35] WARNING: C:\\buildkite-agent\\builds\\buildkite-windows-cpu-autoscaling-group-i-0c55ff5f71b100e98-1\\xgboost\\xgboost-ci-windows\\src\\learner.cc:740: \n",
      "Parameters: { \"use_label_encoder\" } are not used.\n",
      "\n",
      "  warnings.warn(smsg, UserWarning)\n",
      "[I 2025-03-25 16:27:36,192] Trial 5 finished with value: 0.97215 and parameters: {'max_depth': 5, 'learning_rate': 0.03987603042328523, 'n_estimators': 88}. Best is trial 0 with value: 0.9725.\n",
      "C:\\Users\\SV937CY\\AppData\\Local\\Temp\\ipykernel_25728\\1848405486.py:5: FutureWarning: suggest_loguniform has been deprecated in v3.0.0. This feature will be removed in v6.0.0. See https://github.com/optuna/optuna/releases/tag/v3.0.0. Use suggest_float(..., log=True) instead.\n",
      "  \"learning_rate\": trial.suggest_loguniform(\"learning_rate\", 0.01, 0.3),\n",
      "c:\\Users\\SV937CY\\bias_1\\Lib\\site-packages\\xgboost\\core.py:158: UserWarning: [16:27:36] WARNING: C:\\buildkite-agent\\builds\\buildkite-windows-cpu-autoscaling-group-i-0c55ff5f71b100e98-1\\xgboost\\xgboost-ci-windows\\src\\learner.cc:740: \n",
      "Parameters: { \"use_label_encoder\" } are not used.\n",
      "\n",
      "  warnings.warn(smsg, UserWarning)\n",
      "[I 2025-03-25 16:27:36,543] Trial 6 finished with value: 0.9727 and parameters: {'max_depth': 4, 'learning_rate': 0.06205647784609009, 'n_estimators': 149}. Best is trial 6 with value: 0.9727.\n",
      "C:\\Users\\SV937CY\\AppData\\Local\\Temp\\ipykernel_25728\\1848405486.py:5: FutureWarning: suggest_loguniform has been deprecated in v3.0.0. This feature will be removed in v6.0.0. See https://github.com/optuna/optuna/releases/tag/v3.0.0. Use suggest_float(..., log=True) instead.\n",
      "  \"learning_rate\": trial.suggest_loguniform(\"learning_rate\", 0.01, 0.3),\n",
      "c:\\Users\\SV937CY\\bias_1\\Lib\\site-packages\\xgboost\\core.py:158: UserWarning: [16:27:36] WARNING: C:\\buildkite-agent\\builds\\buildkite-windows-cpu-autoscaling-group-i-0c55ff5f71b100e98-1\\xgboost\\xgboost-ci-windows\\src\\learner.cc:740: \n",
      "Parameters: { \"use_label_encoder\" } are not used.\n",
      "\n",
      "  warnings.warn(smsg, UserWarning)\n",
      "[I 2025-03-25 16:27:37,136] Trial 7 finished with value: 0.97245 and parameters: {'max_depth': 3, 'learning_rate': 0.10627294721030518, 'n_estimators': 234}. Best is trial 6 with value: 0.9727.\n",
      "C:\\Users\\SV937CY\\AppData\\Local\\Temp\\ipykernel_25728\\1848405486.py:5: FutureWarning: suggest_loguniform has been deprecated in v3.0.0. This feature will be removed in v6.0.0. See https://github.com/optuna/optuna/releases/tag/v3.0.0. Use suggest_float(..., log=True) instead.\n",
      "  \"learning_rate\": trial.suggest_loguniform(\"learning_rate\", 0.01, 0.3),\n",
      "c:\\Users\\SV937CY\\bias_1\\Lib\\site-packages\\xgboost\\core.py:158: UserWarning: [16:27:37] WARNING: C:\\buildkite-agent\\builds\\buildkite-windows-cpu-autoscaling-group-i-0c55ff5f71b100e98-1\\xgboost\\xgboost-ci-windows\\src\\learner.cc:740: \n",
      "Parameters: { \"use_label_encoder\" } are not used.\n",
      "\n",
      "  warnings.warn(smsg, UserWarning)\n",
      "[I 2025-03-25 16:27:37,364] Trial 8 finished with value: 0.97215 and parameters: {'max_depth': 3, 'learning_rate': 0.01321123029617975, 'n_estimators': 100}. Best is trial 6 with value: 0.9727.\n",
      "C:\\Users\\SV937CY\\AppData\\Local\\Temp\\ipykernel_25728\\1848405486.py:5: FutureWarning: suggest_loguniform has been deprecated in v3.0.0. This feature will be removed in v6.0.0. See https://github.com/optuna/optuna/releases/tag/v3.0.0. Use suggest_float(..., log=True) instead.\n",
      "  \"learning_rate\": trial.suggest_loguniform(\"learning_rate\", 0.01, 0.3),\n",
      "c:\\Users\\SV937CY\\bias_1\\Lib\\site-packages\\xgboost\\core.py:158: UserWarning: [16:27:37] WARNING: C:\\buildkite-agent\\builds\\buildkite-windows-cpu-autoscaling-group-i-0c55ff5f71b100e98-1\\xgboost\\xgboost-ci-windows\\src\\learner.cc:740: \n",
      "Parameters: { \"use_label_encoder\" } are not used.\n",
      "\n",
      "  warnings.warn(smsg, UserWarning)\n",
      "[I 2025-03-25 16:27:38,165] Trial 9 finished with value: 0.97215 and parameters: {'max_depth': 6, 'learning_rate': 0.013837688918819025, 'n_estimators': 249}. Best is trial 6 with value: 0.9727.\n",
      "c:\\Users\\SV937CY\\bias_1\\Lib\\site-packages\\xgboost\\core.py:158: UserWarning: [16:27:38] WARNING: C:\\buildkite-agent\\builds\\buildkite-windows-cpu-autoscaling-group-i-0c55ff5f71b100e98-1\\xgboost\\xgboost-ci-windows\\src\\learner.cc:740: \n",
      "Parameters: { \"use_label_encoder\" } are not used.\n",
      "\n",
      "  warnings.warn(smsg, UserWarning)\n"
     ]
    }
   ],
   "source": [
    "# Train Initial Model\n",
    "study = optuna.create_study(direction=\"maximize\")\n",
    "study.optimize(objective, n_trials=10)\n",
    "best_params = study.best_params\n",
    "model = xgb.XGBClassifier(**best_params, use_label_encoder=False, eval_metric=\"logloss\")\n",
    "model.fit(X_train, y_train)\n",
    "MODEL_ACCURACY = accuracy_score(y_test, model.predict(X_test))"
   ]
  },
  {
   "cell_type": "code",
   "execution_count": 8,
   "metadata": {},
   "outputs": [
    {
     "name": "stderr",
     "output_type": "stream",
     "text": [
      "2025/03/25 16:27:51 WARNING mlflow.utils.git_utils: Failed to import Git (the Git executable is probably not on your PATH), so Git SHA is not available. Error: Failed to initialize: Bad git executable.\n",
      "The git executable must be specified in one of the following ways:\n",
      "    - be included in your $PATH\n",
      "    - be set via $GIT_PYTHON_GIT_EXECUTABLE\n",
      "    - explicitly set via git.refresh(<full-path-to-git-executable>)\n",
      "\n",
      "All git commands will error until this is rectified.\n",
      "\n",
      "This initial message can be silenced or aggravated in the future by setting the\n",
      "$GIT_PYTHON_REFRESH environment variable. Use one of the following values:\n",
      "    - quiet|q|silence|s|silent|none|n|0: for no message or exception\n",
      "    - warn|w|warning|log|l|1: for a warning message (logging level CRITICAL, displayed by default)\n",
      "    - error|e|exception|raise|r|2: for a raised exception\n",
      "\n",
      "Example:\n",
      "    export GIT_PYTHON_REFRESH=quiet\n",
      "\n",
      "c:\\Users\\SV937CY\\bias_1\\Lib\\site-packages\\xgboost\\core.py:158: UserWarning: [16:27:51] WARNING: C:\\buildkite-agent\\builds\\buildkite-windows-cpu-autoscaling-group-i-0c55ff5f71b100e98-1\\xgboost\\xgboost-ci-windows\\src\\c_api\\c_api.cc:1374: Saving model in the UBJSON format as default.  You can use file extension: `json`, `ubj` or `deprecated` to choose between formats.\n",
      "  warnings.warn(smsg, UserWarning)\n",
      "2025/03/25 16:29:37 WARNING mlflow.models.model: Model logged without a signature and input example. Please set `input_example` parameter when logging the model to auto infer the model signature.\n"
     ]
    }
   ],
   "source": [
    "# Log Model to MLflow\n",
    "with mlflow.start_run():\n",
    "    mlflow.log_params(best_params)\n",
    "    mlflow.log_metric(\"accuracy\", MODEL_ACCURACY)\n",
    "    mlflow.xgboost.log_model(model, \"model\")\n"
   ]
  },
  {
   "cell_type": "code",
   "execution_count": 9,
   "metadata": {},
   "outputs": [],
   "source": [
    "# MLOps Workflow Functions\n",
    "def monitor_model(state):\n",
    "    \"\"\"Monitor model performance.\"\"\"\n",
    "    global MODEL_ACCURACY\n",
    "    print(f\"Monitoring Model: {MODEL_VERSION}, Accuracy: {MODEL_ACCURACY}\")\n",
    "    return {\"status\": \"drift_detected\"} if MODEL_ACCURACY < 0.75 else {\"status\": \"model_healthy\"}\n",
    "\n",
    "def decide_retraining(state):\n",
    "    \"\"\"Decide if retraining is needed using an LLM.\"\"\"\n",
    "    response = llm.predict(\"The model accuracy dropped below the threshold. Should I retrain?\")\n",
    "    return {\"status\": \"retrain\"} if \"yes\" in response.lower() else {\"status\": \"done\"}\n",
    "\n",
    "def retrain_model(state):\n",
    "    \"\"\"Retrain model with updated dataset & hyperparameters.\"\"\"\n",
    "    global MODEL_ACCURACY, MODEL_VERSION\n",
    "    study.optimize(objective, n_trials=5)\n",
    "    best_params = study.best_params\n",
    "    new_model = xgb.XGBClassifier(**best_params, use_label_encoder=False, eval_metric=\"logloss\")\n",
    "    new_model.fit(X_train, y_train)\n",
    "    MODEL_ACCURACY = accuracy_score(y_test, new_model.predict(X_test))\n",
    "    MODEL_VERSION = \"v\" + str(int(MODEL_VERSION.split(\"v\")[-1]) + 1)\n",
    "    with mlflow.start_run():\n",
    "        mlflow.log_params(best_params)\n",
    "        mlflow.log_metric(\"new_accuracy\", MODEL_ACCURACY)\n",
    "        mlflow.xgboost.log_model(new_model, \"model\")\n",
    "    return {\"status\": \"deploy\"}\n",
    "\n",
    "def deploy_model(state):\n",
    "    \"\"\"Deploy the updated model.\"\"\"\n",
    "    print(f\"Deploying Model {MODEL_VERSION} with Accuracy: {MODEL_ACCURACY}\")\n",
    "    return {\"status\": \"done\"}\n",
    "\n",
    "def done(state):\n",
    "    \"\"\"End workflow.\"\"\"\n",
    "    print(\"MLOps Workflow Completed Successfully!\")\n",
    "    return state"
   ]
  },
  {
   "cell_type": "code",
   "execution_count": 10,
   "metadata": {},
   "outputs": [],
   "source": [
    "# Define Workflow State Schema\n",
    "class MLOpsState(TypedDict):\n",
    "    status: str  # Workflow status (e.g., \"monitoring\", \"retraining\")"
   ]
  },
  {
   "cell_type": "code",
   "execution_count": 11,
   "metadata": {},
   "outputs": [
    {
     "data": {
      "text/plain": [
       "<langgraph.graph.state.StateGraph at 0x12fa5592e10>"
      ]
     },
     "execution_count": 11,
     "metadata": {},
     "output_type": "execute_result"
    }
   ],
   "source": [
    "# Build Workflow with LangGraph\n",
    "workflow = StateGraph(MLOpsState)\n",
    "workflow.add_node(\"monitor\", monitor_model)\n",
    "workflow.add_node(\"decision\", decide_retraining)\n",
    "workflow.add_node(\"retrain\", retrain_model)\n",
    "workflow.add_node(\"deploy\", deploy_model)\n",
    "workflow.add_node(\"done\", done)\n",
    "\n",
    "workflow.set_entry_point(\"monitor\")\n",
    "workflow.add_conditional_edges(\"monitor\", lambda state: \"decision\" if state[\"status\"] == \"drift_detected\" else \"done\")\n",
    "workflow.add_conditional_edges(\"decision\", lambda state: \"retrain\" if state[\"status\"] == \"retrain\" else \"done\")\n",
    "workflow.add_edge(\"retrain\", \"deploy\")\n",
    "workflow.add_edge(\"deploy\", \"done\")"
   ]
  },
  {
   "cell_type": "code",
   "execution_count": 12,
   "metadata": {},
   "outputs": [
    {
     "name": "stdout",
     "output_type": "stream",
     "text": [
      "Monitoring Model: v1.0, Accuracy: 0.9727\n",
      "MLOps Workflow Completed Successfully!\n",
      "MLOps Workflow Output: {'status': 'model_healthy'}\n"
     ]
    }
   ],
   "source": [
    "# Compile and Run Workflow\n",
    "agent = workflow.compile()\n",
    "output = agent.invoke({\"status\": \"monitoring\"})\n",
    "print(\"MLOps Workflow Output:\", output)"
   ]
  },
  {
   "cell_type": "code",
   "execution_count": 13,
   "metadata": {},
   "outputs": [
    {
     "data": {
      "image/png": "[encoded data removed]",
      "text/plain": [
       "<Figure size 800x500 with 1 Axes>"
      ]
     },
     "metadata": {},
     "output_type": "display_data"
    }
   ],
   "source": [
    "# Visualize Workflow\n",
    "edges = [(\"monitor\", \"decision\"), (\"monitor\", \"done\"), (\"decision\", \"retrain\"),\n",
    "         (\"decision\", \"done\"), (\"retrain\", \"deploy\"), (\"deploy\", \"done\")]\n",
    "G = nx.DiGraph()\n",
    "G.add_edges_from(edges)\n",
    "plt.figure(figsize=(8, 5))\n",
    "pos = nx.spring_layout(G, seed=42)\n",
    "nx.draw(G, pos, with_labels=True, node_color=\"lightblue\", edge_color=\"gray\", node_size=2000, font_size=10, font_weight=\"bold\", arrows=True)\n",
    "plt.title(\"LangGraph MLOps Workflow\")\n",
    "plt.show()\n"
   ]
  }
 ],
 "metadata": {
  "kernelspec": {
   "display_name": "bias_1",
   "language": "python",
   "name": "python3"
  },
  "language_info": {
   "codemirror_mode": {
    "name": "ipython",
    "version": 3
   },
   "file_extension": ".py",
   "mimetype": "text/x-python",
   "name": "python",
   "nbconvert_exporter": "python",
   "pygments_lexer": "ipython3",
   "version": "3.11.9"
  }
 },
 "nbformat": 4,
 "nbformat_minor": 2
}
